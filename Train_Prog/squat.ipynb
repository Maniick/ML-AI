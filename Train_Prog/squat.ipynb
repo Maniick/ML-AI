{
 "cells": [
  {
   "cell_type": "code",
   "execution_count": 1,
   "id": "6ae826f0-11e1-40c0-a757-88ab32a252f7",
   "metadata": {},
   "outputs": [],
   "source": [
    "import mediapipe as mp\n",
    "import cv2\n",
    "import numpy as np"
   ]
  },
  {
   "cell_type": "code",
   "execution_count": 2,
   "id": "df764612-c27b-452f-bc56-9e92e576826e",
   "metadata": {},
   "outputs": [],
   "source": [
    "mp_drawing = mp.solutions.drawing_utils\n",
    "mp_pose = mp.solutions.pose"
   ]
  },
  {
   "cell_type": "code",
   "execution_count": 3,
   "id": "43817cfe-7e32-4215-86a0-6e7a8bfcdda7",
   "metadata": {},
   "outputs": [],
   "source": [
    "import csv\n",
    "import os\n",
    "import numpy as np\n",
    "from matplotlib import pyplot as plt"
   ]
  },
  {
   "cell_type": "code",
   "execution_count": 15,
   "id": "68e1f3a1-c98a-4f2f-ab2b-63bffdf4bdb0",
   "metadata": {},
   "outputs": [],
   "source": [
    "landmarks = ['legs']\n",
    "for val in range(1, 33+1):\n",
    "    landmarks += ['x{}'.format(val), 'y{}'.format(val), 'z{}'.format(val), 'v{}'.format(val)]"
   ]
  },
  {
   "cell_type": "code",
   "execution_count": 16,
   "id": "f38bdb54-cb17-4cca-888c-fc9d8a2f7256",
   "metadata": {},
   "outputs": [],
   "source": [
    "with open('wrist.csv', mode='w', newline='') as f:\n",
    "    csv_writer = csv.writer(f, delimiter=',', quotechar='\"', quoting=csv.QUOTE_MINIMAL)\n",
    "    csv_writer.writerow(landmarks)"
   ]
  },
  {
   "cell_type": "code",
   "execution_count": 23,
   "id": "d328e885-8b70-4b53-a50c-b7a9182cdc4e",
   "metadata": {},
   "outputs": [],
   "source": [
    "def export_landmark(results, wrist):\n",
    "    try:\n",
    "        keypoints = np.array([[res.x, res.y, res.z, res.visibility] for res in results.pose_landmarks.landmark]).flatten().tolist()\n",
    "        keypoints.insert(0, wrist)\n",
    "\n",
    "        with open('legs.csv', mode='a', newline='') as f:\n",
    "            csv_writer = csv.writer(f, delimiter=',', quotechar='\"', quoting=csv.QUOTE_MINIMAL)\n",
    "            csv_writer.writerow(keypoints)\n",
    "    except Exception as e:\n",
    "        pass"
   ]
  },
  {
   "cell_type": "code",
   "execution_count": 24,
   "id": "a5eca7bc-da68-4478-bbe7-b1c5c09d0314",
   "metadata": {},
   "outputs": [],
   "source": [
    "def rescale_frame(frame, scale):    # works for image, video, live video\n",
    "    width = int(frame.shape[1] * scale)\n",
    "    height = int(frame.shape[0] * scale)\n",
    "    dimensions = (width, height)\n",
    "    return cv2.resize(frame, dimensions, interpolation=cv2.INTER_AREA)"
   ]
  },
  {
   "cell_type": "code",
   "execution_count": 26,
   "id": "978d5966-331c-48df-a09b-d3b16a23a3eb",
   "metadata": {},
   "outputs": [],
   "source": [
    "cap = cv2.VideoCapture(\"Data/squat/squat2.mp4\")\n",
    "cap.set(3, 1440)\n",
    "with mp_pose.Pose(min_detection_confidence=0.7, min_tracking_confidence=0.7) as pose:\n",
    "    #Loop video\n",
    "    while cap.isOpened():\n",
    "        ret, frame = cap.read()\n",
    "        #frame_resized = rescale_frame(frame, scale=.6)\n",
    "        \n",
    "        #Recolor image to RGB\n",
    "        image = cv2.cvtColor(frame, cv2.COLOR_BGR2RGB)\n",
    "        image.flags.writeable = False\n",
    "        \n",
    "        #Make detection\n",
    "        results = pose.process(image)\n",
    "\n",
    "        #Recolor back to BGR\n",
    "        image.flags.writeable = True\n",
    "        image = cv2.cvtColor(image, cv2.COLOR_RGB2BGR)\n",
    "\n",
    "        #Render detections\n",
    "        mp_drawing.draw_landmarks(image, results.pose_landmarks, mp_pose.POSE_CONNECTIONS)\n",
    "        k = cv2.waitKey(1)\n",
    "\n",
    "        if k == ord(\"w\"):\n",
    "            export_landmark(results, \"legs_normal\")\n",
    "            cv2.putText(image, \"UP\", (95,12), cv2.FONT_HERSHEY_SIMPLEX, 0.5, (0, 0, 0), cv2.LINE_AA)\n",
    "        if k == ord(\"e\"):\n",
    "            export_landmark(results, \"legs_wide\")\n",
    "            cv2.putText(image, \"DOWN\", (95,12), cv2.FONT_HERSHEY_SIMPLEX, 0.5, (0, 0, 0), cv2.LINE_AA)\n",
    "        if k == ord(\"r\"):\n",
    "            export_landmark(results, \"legs_narrow\")\n",
    "            cv2.putText(image, \"UP\", (95,12), cv2.FONT_HERSHEY_SIMPLEX, 0.5, (0, 0, 0), cv2.LINE_AA)\n",
    "        #Display the annotated frame\n",
    "        image_resized = rescale_frame(image, scale=.6)\n",
    "        cv2.imshow(\"Mediapipe Feed\", image_resized)\n",
    "\n",
    "        #Break the loop\n",
    "        if cv2.waitKey(10) & 0xFF == ord(\"q\"):\n",
    "            break\n",
    "#Release the video capture object and close the display window  \n",
    "cap.release()\n",
    "cv2.destroyAllWindows()"
   ]
  },
  {
   "cell_type": "code",
   "execution_count": 10,
   "id": "87598e85-f045-4935-a21d-e312fafe9a9f",
   "metadata": {},
   "outputs": [],
   "source": [
    "import pandas as pd\n",
    "from sklearn.model_selection import train_test_split"
   ]
  },
  {
   "cell_type": "code",
   "execution_count": 15,
   "id": "97f70b97-8c8f-4c4f-aea4-9146bbf82e1c",
   "metadata": {},
   "outputs": [],
   "source": [
    "with open('train.csv', mode='w', newline='') as f:\n",
    "    csv_writer = csv.writer(f, delimiter=',', quotechar='\"', quoting=csv.QUOTE_MINIMAL)\n",
    "    csv_writer.writerow(landmarks)"
   ]
  },
  {
   "cell_type": "code",
   "execution_count": 17,
   "id": "61f778c0-4511-4b70-8592-03919ea475d1",
   "metadata": {},
   "outputs": [],
   "source": [
    "dfr = pd.read_csv('squat.csv')\n",
    "dfr.to_csv('train.csv', mode='a', header=False, index=False)"
   ]
  },
  {
   "cell_type": "code",
   "execution_count": null,
   "id": "a7a1da4e-6b21-4168-83c4-6d0782803617",
   "metadata": {},
   "outputs": [],
   "source": []
  }
 ],
 "metadata": {
  "kernelspec": {
   "display_name": "Python 3 (ipykernel)",
   "language": "python",
   "name": "python3"
  },
  "language_info": {
   "codemirror_mode": {
    "name": "ipython",
    "version": 3
   },
   "file_extension": ".py",
   "mimetype": "text/x-python",
   "name": "python",
   "nbconvert_exporter": "python",
   "pygments_lexer": "ipython3",
   "version": "3.11.5"
  }
 },
 "nbformat": 4,
 "nbformat_minor": 5
}
